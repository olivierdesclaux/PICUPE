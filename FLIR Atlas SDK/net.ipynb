{
 "cells": [
  {
   "cell_type": "code",
   "execution_count": 2,
   "metadata": {
    "collapsed": true,
    "pycharm": {
     "name": "#%%\n"
    }
   },
   "outputs": [
    {
     "data": {
      "text/plain": "<System.Reflection.RuntimeAssembly object at 0x0000029486BC7A08>"
     },
     "execution_count": 2,
     "metadata": {},
     "output_type": "execute_result"
    }
   ],
   "source": [
    "import clr  # pythonnet module\n",
    "import time\n",
    "from matplotlib import pyplot as plt\n",
    "from PIL import Image\n",
    "import sys\n",
    "import numpy as np\n",
    "import ctypes\n",
    "from System.Runtime.InteropServices import GCHandle, GCHandleType\n",
    "import itertools\n",
    "from six import PY2\n",
    "\n",
    "\n",
    "sys.path.append(r\"C:\\Program Files (x86)\\FLIR Systems\\FLIR Atlas SDK 6\\bin\\x64\")  # path of dll\n",
    "clr.AddReference(\"Flir.Atlas.Live\")\n",
    "clr.AddReference(\"FLir.Atlas.Image\")"
   ]
  },
  {
   "cell_type": "code",
   "execution_count": 3,
   "outputs": [],
   "source": [
    "\n",
    "from Flir.Atlas.Live import Device, Discovery\n",
    "from Flir.Atlas.Image import ThermalImage, Palettes"
   ],
   "metadata": {
    "collapsed": false,
    "pycharm": {
     "name": "#%%\n"
    }
   }
  },
  {
   "cell_type": "code",
   "execution_count": 4,
   "outputs": [
    {
     "name": "stdout",
     "output_type": "stream",
     "text": [
      "Camera Emulator Unknown\n",
      "FLIR T1020 72503013\n",
      "HP Wide Vision HD Unknown\n",
      "FLIR T1020\n"
     ]
    }
   ],
   "source": [
    "\n",
    "disc = Discovery.Discovery()\n",
    "\n",
    "disc_cameras = []\n",
    "\n",
    "\n",
    "def device_found(sender, event):\n",
    "    camera_info = event.CameraDevice\n",
    "    disc_cameras.append(camera_info)\n",
    "    print(camera_info.Name + \" \" + camera_info.SerialNumber)\n",
    "\n",
    "\n",
    "disc.DeviceFound += device_found\n",
    "\n",
    "# disc.Start(Discovery.Interface.Network)\n",
    "disc.Start()\n",
    "disc.Dispose()\n",
    "\n",
    "for d in disc_cameras:\n",
    "    if d.Name == \"FLIR T1020\":\n",
    "        device = d\n",
    "print(device.Name)"
   ],
   "metadata": {
    "collapsed": false,
    "pycharm": {
     "name": "#%%\n"
    }
   }
  },
  {
   "cell_type": "code",
   "execution_count": 8,
   "outputs": [
    {
     "name": "stdout",
     "output_type": "stream",
     "text": [
      "Connecting...\n",
      "Starting Acquisition...\n",
      "Connection Status 3\n",
      "isGrabbing True\n",
      "Fps:  0.0\n",
      "Device Info: Flir.Atlas.Live.Device.Diagnostics\n",
      "Flir.Atlas.Image.VisualImage\n",
      "{Width=1024, Height=768}\n"
     ]
    }
   ],
   "source": [
    "# cam = Device.ThermalCamera()  # Or VideoOverlay\n",
    "# device.SelectedStreamingFormat = Discovery.ImageFormat.FlirFileFormat  # device.StreamingFormats[0]\n",
    "# print(device.SelectedStreamingFormat)  # Enumeration 0 or 1. 0 is FLirFileFOrmat (thermal matrix) 1 is RGB\n",
    "# print(\"SUpported formatss\", device.StreamingFormats)\n",
    "\n",
    "cam = Device.VideoOverlayCamera()\n",
    "cam.Connect(device)\n",
    "cam.StartGrabbing()\n",
    "# %% grab a single image\n",
    "\n",
    "print(\"Connecting...\")\n",
    "while not cam.IsGrabbing:\n",
    "    time.sleep(.1)\n",
    "print(\"Starting Acquisition...\")\n",
    "print(\"Connection Status\", cam.ConnectionStatus)\n",
    "print(\"isGrabbing\", cam.IsGrabbing)\n",
    "print(\"Fps: \", cam.Fps)\n",
    "print(\"Device Info:\", cam.Diagnostics)\n",
    "# print(\"Bla\")\n",
    "# print(\"Is grabbing\", cam.IsGrabbing)\n",
    "im = cam.GetImage()\n",
    "print(im)\n",
    "print(im.Size)"
   ],
   "metadata": {
    "collapsed": false,
    "pycharm": {
     "name": "#%%\n"
    }
   }
  },
  {
   "cell_type": "code",
   "execution_count": 9,
   "outputs": [],
   "source": [
    "cam.StopGrabbing()\n",
    "cam.Disconnect()"
   ],
   "metadata": {
    "collapsed": false,
    "pycharm": {
     "name": "#%%\n"
    }
   }
  },
  {
   "cell_type": "code",
   "execution_count": 24,
   "outputs": [
    {
     "ename": "InvalidOperationException",
     "evalue": "Failed to create bitmap image\n   à Flir.Atlas.Image.VisualImage.ImageArray()",
     "output_type": "error",
     "traceback": [
      "\u001B[1;31m---------------------------------------------------------------------------\u001B[0m",
      "\u001B[1;31mInvalidOperationException\u001B[0m                 Traceback (most recent call last)",
      "\u001B[1;32m<ipython-input-24-dbfc848a9743>\u001B[0m in \u001B[0;36m<module>\u001B[1;34m\u001B[0m\n\u001B[0;32m      1\u001B[0m \u001B[1;31m# im.Palette = Palettes.PaletteManager.Iron\u001B[0m\u001B[1;33m\u001B[0m\u001B[1;33m\u001B[0m\u001B[1;33m\u001B[0m\u001B[0m\n\u001B[1;32m----> 2\u001B[1;33m \u001B[0mx\u001B[0m \u001B[1;33m=\u001B[0m \u001B[0mim\u001B[0m\u001B[1;33m.\u001B[0m\u001B[0mImageArray\u001B[0m\u001B[1;33m(\u001B[0m\u001B[1;33m)\u001B[0m\u001B[1;33m\u001B[0m\u001B[1;33m\u001B[0m\u001B[0m\n\u001B[0m\u001B[0;32m      3\u001B[0m \u001B[1;33m\u001B[0m\u001B[0m\n\u001B[0;32m      4\u001B[0m \u001B[1;31m# print(x[0])\u001B[0m\u001B[1;33m\u001B[0m\u001B[1;33m\u001B[0m\u001B[1;33m\u001B[0m\u001B[0m\n\u001B[0;32m      5\u001B[0m \u001B[1;31m# plt.imshow(im.Bitmap)\u001B[0m\u001B[1;33m\u001B[0m\u001B[1;33m\u001B[0m\u001B[1;33m\u001B[0m\u001B[0m\n",
      "\u001B[1;31mInvalidOperationException\u001B[0m: Failed to create bitmap image\n   à Flir.Atlas.Image.VisualImage.ImageArray()"
     ]
    }
   ],
   "source": [
    "# im.Palette = Palettes.PaletteManager.Iron\n",
    "x = im.ImageArray()\n",
    "\n",
    "# print(x[0])\n",
    "# plt.imshow(im.Bitmap)\n",
    "# save the image\n",
    "# print(im.Bitmap)\n",
    "#\n",
    "# path2im = r\"C:\\Users\\Olivier Desclaux\\OneDrive\\Recherche\\PICUPE\\FLIR Atlas SDK\\image.jpg\"\n",
    "# im.SaveSnapshot(path2im)\n",
    "# #\n",
    "# # # show the image\n",
    "# #\n",
    "# #\n",
    "# img = Image.open(path2im)\n",
    "# plt.imshow(img)\n",
    "\n",
    "# %% disconnect the camera\n",
    "cam.StopGrabbing()\n",
    "cam.Disconnect()"
   ],
   "metadata": {
    "collapsed": false,
    "pycharm": {
     "name": "#%% edit the image\n"
    }
   }
  },
  {
   "cell_type": "code",
   "execution_count": 13,
   "outputs": [],
   "source": [
    "_MAP_NET_NP = {\n",
    "    'Single': np.dtype('float32'),\n",
    "    'Double': np.dtype('float64'),\n",
    "    'SByte': np.dtype('int8'),\n",
    "    'Int16': np.dtype('int16'),\n",
    "    'Int32': np.dtype('int32'),\n",
    "    'Int64': np.dtype('int64'),\n",
    "    'Byte': np.dtype('uint8'),\n",
    "    'UInt16': np.dtype('uint16'),\n",
    "    'UInt32': np.dtype('uint32'),\n",
    "    'UInt64': np.dtype('uint64'),\n",
    "    'Boolean': np.dtype('bool'),\n",
    "}\n",
    "\n",
    "def net_to_numpy(dotnet_array):\n",
    "    '''\n",
    "    Given a .NET CLR `System.Array` returns a `numpy.ndarray`.  See _MAP_NET_NP for\n",
    "    the mapping of CLR types to Numpy dtypes.\n",
    "    '''\n",
    "    dims = np.empty(dotnet_array.Rank, dtype=int)\n",
    "    for I in range(dotnet_array.Rank):\n",
    "        dims[I] = dotnet_array.GetLength(I)\n",
    "    netType = dotnet_array.GetType().GetElementType().Name\n",
    "\n",
    "    if (netType not in _MAP_NET_NP):\n",
    "        raise NotImplementedError(\"net_to_numpy does not yet support System type {}\".format(netType))\n",
    "\n",
    "    map_result = _MAP_NET_NP[netType]\n",
    "\n",
    "    if (isinstance(map_result, tuple)):\n",
    "        ntype = map_result[0]\n",
    "        converter = map_result[1]\n",
    "    else:\n",
    "        ntype = map_result\n",
    "        converter = None\n",
    "\n",
    "    if ntype.kind == 'U':\n",
    "        # Need to find the size\n",
    "        size = 0\n",
    "        pattern = [range(x) for x in dims]\n",
    "        for t in itertools.product(*pattern):\n",
    "            # only a list in python2, otherwise a generator\n",
    "            t_list = t if PY2 else list(t)\n",
    "            s = len(dotnet_array.GetValue(t_list))\n",
    "            if s > size:\n",
    "                size = s\n",
    "        ntype = np.dtype(('U', size))\n",
    "\n",
    "    npArray = np.empty(dims, order='C', dtype=ntype)\n",
    "\n",
    "    try:\n",
    "        sourceHandle = GCHandle.Alloc(dotnet_array, GCHandleType.Pinned)\n",
    "        sourcePtr = sourceHandle.AddrOfPinnedObject().ToInt64()\n",
    "        destPtr = npArray.__array_interface__['data'][0]\n",
    "        ctypes.memmove(destPtr, sourcePtr, npArray.nbytes)\n",
    "    finally:\n",
    "        if sourceHandle.IsAllocated:\n",
    "            sourceHandle.Free()\n",
    "\n",
    "    return npArray"
   ],
   "metadata": {
    "collapsed": false,
    "pycharm": {
     "name": "#%%\n"
    }
   }
  },
  {
   "cell_type": "code",
   "execution_count": 23,
   "outputs": [],
   "source": [
    "im.GetData()"
   ],
   "metadata": {
    "collapsed": false,
    "pycharm": {
     "name": "#%%\n"
    }
   }
  }
 ],
 "metadata": {
  "kernelspec": {
   "name": "pycharm-da8a5087",
   "language": "python",
   "display_name": "PyCharm (PICUPE)"
  },
  "language_info": {
   "codemirror_mode": {
    "name": "ipython",
    "version": 2
   },
   "file_extension": ".py",
   "mimetype": "text/x-python",
   "name": "python",
   "nbconvert_exporter": "python",
   "pygments_lexer": "ipython2",
   "version": "2.7.6"
  }
 },
 "nbformat": 4,
 "nbformat_minor": 0
}