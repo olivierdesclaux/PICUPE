{
 "cells": [
  {
   "cell_type": "code",
   "execution_count": 1,
   "metadata": {
    "pycharm": {
     "name": "#%%\n"
    }
   },
   "outputs": [],
   "source": [
    "import os\n",
    "import sys\n",
    "import numpy"
   ]
  },
  {
   "cell_type": "code",
   "execution_count": 28,
   "outputs": [],
   "source": [
    "def removeFlirFirstImage(experimentPath):\n",
    "    \"\"\"\n",
    "    There is a slight issue with the flir. It acquires at the start an unnecessary image.\n",
    "    This creates an offset of one image in the entire acquisition.\n",
    "    So we remove the first FLIR image, and slide all the images \"up\".\n",
    "    We also do the same thing for the timestamps\n",
    "    Parameters\n",
    "    ----------\n",
    "    experimentPath: str, path to the experiment.\n",
    "    Returns\n",
    "    -------\n",
    "    None\n",
    "    \"\"\"\n",
    "    flirPath = os.path.join(experimentPath, \"flir\")\n",
    "    # Remove first frame\n",
    "    os.remove(os.path.join(flirPath, \"00000\"))\n",
    "    # Slide all frames up i.e. frame i becomes frame i-1\n",
    "    frames = [x for x in os.listdir(flirPath) if x.split('.')[-1] != \"txt\"]\n",
    "    for i, frame in enumerate(frames):\n",
    "        # i will start at 0, frames will start at 00001. So we just have to rename the frame with i.\n",
    "        newName = str(i).zfill(5)\n",
    "        os.rename(os.path.join(flirPath, frame), os.path.join(flirPath, newName))\n",
    "\n",
    "    # Do the same thing for the timestamps\n",
    "    timestamps = os.path.join(flirPath, \"timestamps.txt\")\n",
    "    with open(timestamps, \"r\") as f:\n",
    "        lines = f.readlines()\n",
    "    lines = lines[1:]\n",
    "    with open(timestamps, \"w\") as f:\n",
    "        f.writelines(lines)\n",
    "    return True"
   ],
   "metadata": {
    "collapsed": false,
    "pycharm": {
     "name": "#%%\n"
    }
   }
  },
  {
   "cell_type": "code",
   "execution_count": 29,
   "outputs": [
    {
     "data": {
      "text/plain": "True"
     },
     "execution_count": 29,
     "metadata": {},
     "output_type": "execute_result"
    }
   ],
   "source": [
    "removeFlirFirstImage(r\"C:\\Users\\Recherche\\OneDrive - polymtl.ca\\PICUPE\\Results\\Acquisitions\\test\")"
   ],
   "metadata": {
    "collapsed": false,
    "pycharm": {
     "name": "#%%\n"
    }
   }
  },
  {
   "cell_type": "code",
   "execution_count": 30,
   "outputs": [],
   "source": [
    "def removeFrames(path, n):\n",
    "    \"\"\"\n",
    "    Removes the n first frames of our acquisition\n",
    "    Parameters\n",
    "    ----------\n",
    "    path\n",
    "    n\n",
    "\n",
    "    Returns\n",
    "    -------\n",
    "\n",
    "    \"\"\""
   ],
   "metadata": {
    "collapsed": false,
    "pycharm": {
     "name": "#%%\n"
    }
   }
  },
  {
   "cell_type": "code",
   "execution_count": 2,
   "outputs": [],
   "source": [],
   "metadata": {
    "collapsed": false,
    "pycharm": {
     "name": "#%%\n"
    }
   }
  },
  {
   "cell_type": "code",
   "execution_count": 3,
   "outputs": [
    {
     "data": {
      "text/plain": "True"
     },
     "execution_count": 3,
     "metadata": {},
     "output_type": "execute_result"
    }
   ],
   "source": [
    "removeIMUTimestamps(r\"C:\\Users\\Recherche\\OneDrive - polymtl.ca\\PICUPE\\Results\\Acquisitions\\OlivierNoHeadReset\\XSens\\MTw data\", 150)"
   ],
   "metadata": {
    "collapsed": false,
    "pycharm": {
     "name": "#%%\n"
    }
   }
  },
  {
   "cell_type": "code",
   "execution_count": 32,
   "outputs": [],
   "source": [],
   "metadata": {
    "collapsed": false,
    "pycharm": {
     "name": "#%%\n"
    }
   }
  }
 ],
 "metadata": {
  "kernelspec": {
   "name": "pycharm-a06f87b3",
   "language": "python",
   "display_name": "PyCharm (PICUPE)"
  },
  "language_info": {
   "codemirror_mode": {
    "name": "ipython",
    "version": 3
   },
   "file_extension": ".py",
   "mimetype": "text/x-python",
   "name": "python",
   "nbconvert_exporter": "python",
   "pygments_lexer": "ipython3",
   "version": "3.7.11"
  }
 },
 "nbformat": 4,
 "nbformat_minor": 1
}