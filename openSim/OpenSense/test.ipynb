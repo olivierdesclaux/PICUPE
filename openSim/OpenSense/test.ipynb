{
 "cells": [
  {
   "cell_type": "code",
   "execution_count": 1,
   "metadata": {
    "collapsed": true
   },
   "outputs": [],
   "source": [
    "import numpy\n",
    "import opensim as osim\n",
    "import xml.etree.ElementTree as ET\n"
   ]
  },
  {
   "cell_type": "code",
   "execution_count": 2,
   "outputs": [],
   "source": [
    "modelFileName = 'Rajagopal_2015.osim'          # The path to an input model\n",
    "orientationsFileName = 'MT_012005D6_009-001_orientations.sto'   # The path to orientation data for calibration\n",
    "sensor_to_opensim_rotations = osim.Vec3(-1.570796, 0, 0)  # The rotation of IMU data to the OpenSim world frame\n",
    "baseIMUName = 'pelvis_imu'                     # The base IMU is the IMU on the base body of the model that dictates the heading (forward) direction of the model.\n",
    "baseIMUHeading = 'z'                           # The Coordinate Axis of the base IMU that points in the heading direction.\n",
    "visulizeCalibration = False\n",
    "\n",
    "\n",
    "imuPlacer = osim.IMUPlacer()"
   ],
   "metadata": {
    "collapsed": false,
    "pycharm": {
     "name": "#%%\n"
    }
   }
  },
  {
   "cell_type": "code",
   "execution_count": 4,
   "outputs": [],
   "source": [
    "imuPlacer.set_model_file(modelFileName)\n",
    "imuPlacer.set_orientation_file_for_calibration(orientationsFileName)\n",
    "imuPlacer.set_sensor_to_opensim_rotations(sensor_to_opensim_rotations)\n",
    "imuPlacer.set_base_imu_label(baseIMUName)\n",
    "imuPlacer.set_base_heading_axis(baseIMUHeading)"
   ],
   "metadata": {
    "collapsed": false,
    "pycharm": {
     "name": "#%%\n"
    }
   }
  },
  {
   "cell_type": "code",
   "execution_count": 4,
   "outputs": [
    {
     "ename": "RuntimeError",
     "evalue": "std::exception in 'bool OpenSim::IMUPlacer::run(bool)': No model or model_file was specified for IMUPlacer.\n\tThrown at IMUPlacer.cpp:90 in run().",
     "output_type": "error",
     "traceback": [
      "\u001B[1;31m---------------------------------------------------------------------------\u001B[0m",
      "\u001B[1;31mRuntimeError\u001B[0m                              Traceback (most recent call last)",
      "\u001B[1;32m<ipython-input-4-754eeccc1d40>\u001B[0m in \u001B[0;36m<module>\u001B[1;34m\u001B[0m\n\u001B[1;32m----> 1\u001B[1;33m \u001B[0mimuPlacer\u001B[0m\u001B[1;33m.\u001B[0m\u001B[0mrun\u001B[0m\u001B[1;33m(\u001B[0m\u001B[1;33m)\u001B[0m\u001B[1;33m\u001B[0m\u001B[1;33m\u001B[0m\u001B[0m\n\u001B[0m\u001B[0;32m      2\u001B[0m \u001B[1;33m\u001B[0m\u001B[0m\n",
      "\u001B[1;32mD:\\OpenSim 4.2\\sdk\\Python\\opensim\\simulation.py\u001B[0m in \u001B[0;36mrun\u001B[1;34m(self, visualizeResults)\u001B[0m\n\u001B[0;32m  77268\u001B[0m \u001B[1;33m\u001B[0m\u001B[0m\n\u001B[0;32m  77269\u001B[0m         \"\"\"\n\u001B[1;32m> 77270\u001B[1;33m         \u001B[1;32mreturn\u001B[0m \u001B[0m_simulation\u001B[0m\u001B[1;33m.\u001B[0m\u001B[0mIMUPlacer_run\u001B[0m\u001B[1;33m(\u001B[0m\u001B[0mself\u001B[0m\u001B[1;33m,\u001B[0m \u001B[0mvisualizeResults\u001B[0m\u001B[1;33m)\u001B[0m\u001B[1;33m\u001B[0m\u001B[1;33m\u001B[0m\u001B[0m\n\u001B[0m\u001B[0;32m  77271\u001B[0m \u001B[1;33m\u001B[0m\u001B[0m\n\u001B[0;32m  77272\u001B[0m \u001B[1;33m\u001B[0m\u001B[0m\n",
      "\u001B[1;31mRuntimeError\u001B[0m: std::exception in 'bool OpenSim::IMUPlacer::run(bool)': No model or model_file was specified for IMUPlacer.\n\tThrown at IMUPlacer.cpp:90 in run()."
     ]
    }
   ],
   "source": [
    "imuPlacer.run()"
   ],
   "metadata": {
    "collapsed": false,
    "pycharm": {
     "name": "#%%\n"
    }
   }
  },
  {
   "cell_type": "code",
   "execution_count": 5,
   "outputs": [
    {
     "data": {
      "text/plain": "<opensim.simbody.Vec3; proxy of <Swig Object of type 'SimTK::Vec< 3 > *' at 0x0000017EF2F0EB70> >"
     },
     "execution_count": 5,
     "metadata": {},
     "output_type": "execute_result"
    }
   ],
   "source": [],
   "metadata": {
    "collapsed": false,
    "pycharm": {
     "name": "#%%\n"
    }
   }
  },
  {
   "cell_type": "code",
   "execution_count": 5,
   "outputs": [
    {
     "ename": "AttributeError",
     "evalue": "'Model' object has no attribute 'getMuscleSet'",
     "output_type": "error",
     "traceback": [
      "\u001B[1;31m---------------------------------------------------------------------------\u001B[0m",
      "\u001B[1;31mAttributeError\u001B[0m                            Traceback (most recent call last)",
      "\u001B[1;32m<ipython-input-5-9f14dd2c6803>\u001B[0m in \u001B[0;36m<module>\u001B[1;34m\u001B[0m\n\u001B[0;32m      1\u001B[0m \u001B[0mmodel\u001B[0m \u001B[1;33m=\u001B[0m \u001B[0mosim\u001B[0m\u001B[1;33m.\u001B[0m\u001B[0mModel\u001B[0m\u001B[1;33m(\u001B[0m\u001B[1;34m\"Rajagopal_2015.osim\"\u001B[0m\u001B[1;33m)\u001B[0m\u001B[1;33m\u001B[0m\u001B[1;33m\u001B[0m\u001B[0m\n\u001B[1;32m----> 2\u001B[1;33m \u001B[0mmuscles\u001B[0m \u001B[1;33m=\u001B[0m \u001B[0mmodel\u001B[0m\u001B[1;33m.\u001B[0m\u001B[0mgetMuscleSet\u001B[0m\u001B[1;33m(\u001B[0m\u001B[1;33m)\u001B[0m\u001B[1;33m\u001B[0m\u001B[1;33m\u001B[0m\u001B[0m\n\u001B[0m\u001B[0;32m      3\u001B[0m \u001B[0mmuscles\u001B[0m\u001B[1;33m.\u001B[0m\u001B[0mgetSize\u001B[0m\u001B[1;33m(\u001B[0m\u001B[1;33m)\u001B[0m\u001B[1;33m\u001B[0m\u001B[1;33m\u001B[0m\u001B[0m\n\u001B[0;32m      4\u001B[0m \u001B[1;33m\u001B[0m\u001B[0m\n",
      "\u001B[1;32mD:\\OpenSim 4.2\\sdk\\Python\\opensim\\simulation.py\u001B[0m in \u001B[0;36m<lambda>\u001B[1;34m(self, name)\u001B[0m\n\u001B[0;32m  55564\u001B[0m     \u001B[1;32mfor\u001B[0m \u001B[0m_s\u001B[0m \u001B[1;32min\u001B[0m \u001B[1;33m[\u001B[0m\u001B[0mModelComponent\u001B[0m\u001B[1;33m]\u001B[0m\u001B[1;33m:\u001B[0m\u001B[1;33m\u001B[0m\u001B[1;33m\u001B[0m\u001B[0m\n\u001B[0;32m  55565\u001B[0m         \u001B[0m__swig_getmethods__\u001B[0m\u001B[1;33m.\u001B[0m\u001B[0mupdate\u001B[0m\u001B[1;33m(\u001B[0m\u001B[0mgetattr\u001B[0m\u001B[1;33m(\u001B[0m\u001B[0m_s\u001B[0m\u001B[1;33m,\u001B[0m \u001B[1;34m'__swig_getmethods__'\u001B[0m\u001B[1;33m,\u001B[0m \u001B[1;33m{\u001B[0m\u001B[1;33m}\u001B[0m\u001B[1;33m)\u001B[0m\u001B[1;33m)\u001B[0m\u001B[1;33m\u001B[0m\u001B[1;33m\u001B[0m\u001B[0m\n\u001B[1;32m> 55566\u001B[1;33m     \u001B[0m__getattr__\u001B[0m \u001B[1;33m=\u001B[0m \u001B[1;32mlambda\u001B[0m \u001B[0mself\u001B[0m\u001B[1;33m,\u001B[0m \u001B[0mname\u001B[0m\u001B[1;33m:\u001B[0m \u001B[0m_swig_getattr\u001B[0m\u001B[1;33m(\u001B[0m\u001B[0mself\u001B[0m\u001B[1;33m,\u001B[0m \u001B[0mModel\u001B[0m\u001B[1;33m,\u001B[0m \u001B[0mname\u001B[0m\u001B[1;33m)\u001B[0m\u001B[1;33m\u001B[0m\u001B[1;33m\u001B[0m\u001B[0m\n\u001B[0m\u001B[0;32m  55567\u001B[0m     \u001B[0m__repr__\u001B[0m \u001B[1;33m=\u001B[0m \u001B[0m_swig_repr\u001B[0m\u001B[1;33m\u001B[0m\u001B[1;33m\u001B[0m\u001B[0m\n\u001B[0;32m  55568\u001B[0m \u001B[1;33m\u001B[0m\u001B[0m\n",
      "\u001B[1;32mD:\\OpenSim 4.2\\sdk\\Python\\opensim\\simulation.py\u001B[0m in \u001B[0;36m_swig_getattr\u001B[1;34m(self, class_type, name)\u001B[0m\n\u001B[0;32m     78\u001B[0m     \u001B[1;32mif\u001B[0m \u001B[0mmethod\u001B[0m\u001B[1;33m:\u001B[0m\u001B[1;33m\u001B[0m\u001B[1;33m\u001B[0m\u001B[0m\n\u001B[0;32m     79\u001B[0m         \u001B[1;32mreturn\u001B[0m \u001B[0mmethod\u001B[0m\u001B[1;33m(\u001B[0m\u001B[0mself\u001B[0m\u001B[1;33m)\u001B[0m\u001B[1;33m\u001B[0m\u001B[1;33m\u001B[0m\u001B[0m\n\u001B[1;32m---> 80\u001B[1;33m     \u001B[1;32mraise\u001B[0m \u001B[0mAttributeError\u001B[0m\u001B[1;33m(\u001B[0m\u001B[1;34m\"'%s' object has no attribute '%s'\"\u001B[0m \u001B[1;33m%\u001B[0m \u001B[1;33m(\u001B[0m\u001B[0mclass_type\u001B[0m\u001B[1;33m.\u001B[0m\u001B[0m__name__\u001B[0m\u001B[1;33m,\u001B[0m \u001B[0mname\u001B[0m\u001B[1;33m)\u001B[0m\u001B[1;33m)\u001B[0m\u001B[1;33m\u001B[0m\u001B[1;33m\u001B[0m\u001B[0m\n\u001B[0m\u001B[0;32m     81\u001B[0m \u001B[1;33m\u001B[0m\u001B[0m\n\u001B[0;32m     82\u001B[0m \u001B[1;33m\u001B[0m\u001B[0m\n",
      "\u001B[1;31mAttributeError\u001B[0m: 'Model' object has no attribute 'getMuscleSet'"
     ]
    }
   ],
   "source": [
    "model = osim.Model(\"Rajagopal_2015.osim\")\n",
    "muscles = model.getMuscleSet()\n",
    "muscles.getSize()"
   ],
   "metadata": {
    "collapsed": false,
    "pycharm": {
     "name": "#%%\n"
    }
   }
  },
  {
   "cell_type": "code",
   "execution_count": 16,
   "outputs": [
    {
     "name": "stdout",
     "output_type": "stream",
     "text": [
      "11.777\n",
      "~[0.1028,0.0871,0.0579,0,0,0]\n",
      "9.3014\n",
      "~[0.1339,0.0351,0.1412,0,0,0]\n",
      "3.7075\n",
      "~[0.0504,0.0051,0.0511,0,0,0]\n",
      "0.0862\n",
      "~[2.87e-06,1.311e-05,1.311e-05,0,0,0]\n",
      "0.1\n",
      "~[0.001,0.001,0.001,0,0,0]\n",
      "1.25\n",
      "~[0.0014,0.0039,0.0041,0,0,0]\n",
      "0.2166\n",
      "~[0.0001,0.0002,0.001,0,0,0]\n",
      "9.3014\n",
      "~[0.1339,0.0351,0.1412,0,0,0]\n",
      "3.7075\n",
      "~[0.0504,0.0051,0.0511,0,0,0]\n",
      "0.0862\n",
      "~[2.87e-06,1.311e-05,1.311e-05,0,0,0]\n",
      "0.1\n",
      "~[0.001,0.001,0.001,0,0,0]\n",
      "1.25\n",
      "~[0.0014,0.0039,0.0041,0,0,0]\n",
      "0.2166\n",
      "~[0.0001,0.0002,0.001,0,0,0]\n",
      "26.8266\n",
      "~[1.4745,0.7555,1.4314,0,0,0]\n",
      "2.0325\n",
      "~[0.011946,0.004121,0.013409,0,0,0]\n",
      "0.6075\n",
      "~[0.002962,0.000618,0.003213,0,0,0]\n",
      "0.6075\n",
      "~[0.002962,0.000618,0.003213,0,0,0]\n",
      "0.4575\n",
      "~[0.000892,0.000547,0.00134,0,0,0]\n",
      "2.0325\n",
      "~[0.011946,0.004121,0.013409,0,0,0]\n",
      "0.6075\n",
      "~[0.002962,0.000618,0.003213,0,0,0]\n",
      "0.6075\n",
      "~[0.002962,0.000618,0.003213,0,0,0]\n",
      "0.4575\n",
      "~[0.000892,0.000547,0.00134,0,0,0]\n",
      "<opensim.simulation.Body; proxy of <Swig Object of type 'OpenSim::Body *' at 0x000001B6644FF7E0> >\n"
     ]
    }
   ],
   "source": [
    "for body in model.getBodySet():\n",
    "    print(body.get_mass() )\n",
    "    print(body.get_inertia())\n",
    "print(body)"
   ],
   "metadata": {
    "collapsed": false,
    "pycharm": {
     "name": "#%%\n"
    }
   }
  },
  {
   "cell_type": "code",
   "execution_count": 34,
   "outputs": [],
   "source": [],
   "metadata": {
    "collapsed": false,
    "pycharm": {
     "name": "#%%\n"
    }
   }
  },
  {
   "cell_type": "code",
   "execution_count": 19,
   "outputs": [
    {
     "data": {
      "text/plain": "<opensim.simulation.MuscleList; proxy of <Swig Object of type 'OpenSim::ComponentList< OpenSim::Muscle const > *' at 0x000001B6644FF630> >"
     },
     "execution_count": 19,
     "metadata": {},
     "output_type": "execute_result"
    }
   ],
   "source": [
    "model.getMuscleList()"
   ],
   "metadata": {
    "collapsed": false,
    "pycharm": {
     "name": "#%%\n"
    }
   }
  },
  {
   "cell_type": "code",
   "execution_count": null,
   "outputs": [],
   "source": [
    "model = osim.Model(\"calibrated_Rajagopal_2015.osim\")\n",
    "model.setUseVisualizer(True)\n",
    "initState = model.initSystem()\n",
    "print(initState.getY())\n",
    "\n",
    "\n",
    "finalState = osim.simulate(model, initState, 1.5)"
   ],
   "metadata": {
    "collapsed": false,
    "pycharm": {
     "name": "#%%\n"
    }
   }
  },
  {
   "cell_type": "code",
   "execution_count": 50,
   "outputs": [
    {
     "ename": "AttributeError",
     "evalue": "module 'opensim' has no attribute 'visualize'",
     "output_type": "error",
     "traceback": [
      "\u001B[1;31m---------------------------------------------------------------------------\u001B[0m",
      "\u001B[1;31mAttributeError\u001B[0m                            Traceback (most recent call last)",
      "\u001B[1;32m<ipython-input-50-3874e79e83b3>\u001B[0m in \u001B[0;36m<module>\u001B[1;34m\u001B[0m\n\u001B[1;32m----> 1\u001B[1;33m \u001B[0mosim\u001B[0m\u001B[1;33m.\u001B[0m\u001B[0mvisualize\u001B[0m\u001B[1;33m(\u001B[0m\u001B[0mmodel\u001B[0m\u001B[1;33m)\u001B[0m\u001B[1;33m\u001B[0m\u001B[1;33m\u001B[0m\u001B[0m\n\u001B[0m\u001B[0;32m      2\u001B[0m \u001B[1;33m\u001B[0m\u001B[0m\n",
      "\u001B[1;31mAttributeError\u001B[0m: module 'opensim' has no attribute 'visualize'"
     ]
    }
   ],
   "source": [
    "# osim.visualize(model)"
   ],
   "metadata": {
    "collapsed": false,
    "pycharm": {
     "name": "#%%\n"
    }
   }
  },
  {
   "cell_type": "code",
   "execution_count": 1,
   "outputs": [
    {
     "ename": "NameError",
     "evalue": "name 'osim' is not defined",
     "output_type": "error",
     "traceback": [
      "\u001B[1;31m---------------------------------------------------------------------------\u001B[0m",
      "\u001B[1;31mNameError\u001B[0m                                 Traceback (most recent call last)",
      "\u001B[1;32m<ipython-input-1-14f5dc09005e>\u001B[0m in \u001B[0;36m<module>\u001B[1;34m\u001B[0m\n\u001B[1;32m----> 1\u001B[1;33m \u001B[0mosim\u001B[0m\u001B[1;33m.\u001B[0m\u001B[0mMarkerSet\u001B[0m\u001B[1;33m(\u001B[0m\u001B[1;33m)\u001B[0m\u001B[1;33m\u001B[0m\u001B[1;33m\u001B[0m\u001B[0m\n\u001B[0m\u001B[0;32m      2\u001B[0m \u001B[1;33m\u001B[0m\u001B[0m\n",
      "\u001B[1;31mNameError\u001B[0m: name 'osim' is not defined"
     ]
    }
   ],
   "source": [
    "osim.MarkerSet()"
   ],
   "metadata": {
    "collapsed": false,
    "pycharm": {
     "name": "#%%\n"
    }
   }
  },
  {
   "cell_type": "code",
   "execution_count": 50,
   "outputs": [],
   "source": [
    "model = osim.Model(\"calibrated_Rajagopal_2015.osim\")\n",
    "initState = model.initSystem()\n",
    "pelvis = model.getBodySet().get(\"pelvis\")\n",
    "# pelvis_imu = pelvis.getComponentsList().findComponent(\"pelvis_imu\")\n",
    "pelvis_imu = pelvis.findComponent(\"pelvis_imu\")"
   ],
   "metadata": {
    "collapsed": false,
    "pycharm": {
     "name": "#%%\n"
    }
   }
  },
  {
   "cell_type": "code",
   "execution_count": 51,
   "outputs": [
    {
     "ename": "TypeError",
     "evalue": "'ArrayStr' object is not iterable",
     "output_type": "error",
     "traceback": [
      "\u001B[1;31m---------------------------------------------------------------------------\u001B[0m",
      "\u001B[1;31mTypeError\u001B[0m                                 Traceback (most recent call last)",
      "\u001B[1;32m<ipython-input-51-2b90c5cf7bc6>\u001B[0m in \u001B[0;36m<module>\u001B[1;34m\u001B[0m\n\u001B[1;32m----> 1\u001B[1;33m \u001B[1;32mfor\u001B[0m \u001B[0mx\u001B[0m \u001B[1;32min\u001B[0m \u001B[0mpelvis_imu\u001B[0m\u001B[1;33m.\u001B[0m\u001B[0mgetStateVariableNames\u001B[0m\u001B[1;33m(\u001B[0m\u001B[1;33m)\u001B[0m\u001B[1;33m:\u001B[0m\u001B[1;33m\u001B[0m\u001B[1;33m\u001B[0m\u001B[0m\n\u001B[0m\u001B[0;32m      2\u001B[0m     \u001B[0mprint\u001B[0m\u001B[1;33m(\u001B[0m\u001B[0mx\u001B[0m\u001B[1;33m)\u001B[0m\u001B[1;33m\u001B[0m\u001B[1;33m\u001B[0m\u001B[0m\n",
      "\u001B[1;31mTypeError\u001B[0m: 'ArrayStr' object is not iterable"
     ]
    }
   ],
   "source": [
    "for x in pelvis_imu.getStateVariableNames():\n",
    "    print(x)"
   ],
   "metadata": {
    "collapsed": false,
    "pycharm": {
     "name": "#%%\n"
    }
   }
  },
  {
   "cell_type": "code",
   "execution_count": 59,
   "outputs": [
    {
     "data": {
      "text/plain": "'\\n[0.28095286,0.0015755424,0.95972028]\\n[0.95752658,0.067133965,-0.28042088]\\n[-0.064871642,0.99774273,0.017352856]\\n'"
     },
     "execution_count": 59,
     "metadata": {},
     "output_type": "execute_result"
    }
   ],
   "source": [
    "pelvis_imu.getOutput('rotation').getValueAsString(initState)"
   ],
   "metadata": {
    "collapsed": false,
    "pycharm": {
     "name": "#%%\n"
    }
   }
  },
  {
   "cell_type": "code",
   "execution_count": 87,
   "outputs": [
    {
     "name": "stdout",
     "output_type": "stream",
     "text": [
      "components\n",
      "frame_geometry\n",
      "attached_geometry\n",
      "WrapObjectSet\n",
      "socket_parent\n",
      "translation\n",
      "orientation\n"
     ]
    }
   ],
   "source": [
    "# for x in pelvis_imu.getOutputNames():\n",
    "#     print(x.getName())\n",
    "for i in range(7):\n",
    "    prop = pelvis_imu.getPropertyByIndex(i)\n",
    "    print(prop.getName())"
   ],
   "metadata": {
    "collapsed": false,
    "pycharm": {
     "name": "#%%\n"
    }
   }
  },
  {
   "cell_type": "code",
   "execution_count": 91,
   "outputs": [
    {
     "data": {
      "text/plain": "'(-0.0707 0 0)'"
     },
     "execution_count": 91,
     "metadata": {},
     "output_type": "execute_result"
    }
   ],
   "source": [
    "orientation = pelvis_imu.getPropertyByName(\"orientation\")\n",
    "orientation.toString()\n",
    "\n",
    "translation = pelvis_imu.getPropertyByName(\"translation\")\n",
    "translation.toString()"
   ],
   "metadata": {
    "collapsed": false,
    "pycharm": {
     "name": "#%%\n"
    }
   }
  },
  {
   "cell_type": "code",
   "execution_count": null,
   "outputs": [],
   "source": [
    "model = osim.Model(\"calibrated_Rajagopal_2015.osim\")\n",
    "model.setUseVisualizer(True)\n",
    "initState = model.initSystem()\n",
    "visualizer = model.getVisualizer()\n",
    "visualizer.show(initState)"
   ],
   "metadata": {
    "collapsed": false,
    "pycharm": {
     "name": "#%%\n",
     "is_executing": true
    }
   }
  },
  {
   "cell_type": "code",
   "execution_count": 5,
   "outputs": [
    {
     "name": "stdout",
     "output_type": "stream",
     "text": [
      "Info on pelvis IMU\n",
      "Orientation:  (1.50899 1.286 -0.00560779)\n",
      "Translation:  (-0.0707 0 0)\n",
      "\n",
      "\n",
      "Info on femur_r IMU\n",
      "Orientation:  (-3.0795 -0.245978 -1.61288)\n",
      "Translation:  (0 -0.17 0)\n",
      "\n",
      "\n",
      "Info on tibia_r IMU\n",
      "Orientation:  (3.05575 -0.18932 -1.47235)\n",
      "Translation:  (0 -0.1867 0)\n",
      "\n",
      "\n",
      "Info on calcn_r IMU\n",
      "Orientation:  (1.70731 -0.55594 -1.41374)\n",
      "Translation:  (0.1 0.03 0)\n",
      "\n",
      "\n",
      "Info on femur_l IMU\n",
      "Orientation:  (-0.0416244 0.112898 1.40969)\n",
      "Translation:  (0 -0.17 0)\n",
      "\n",
      "\n",
      "Info on tibia_l IMU\n",
      "Orientation:  (0.103356 0.329539 1.47014)\n",
      "Translation:  (0 -0.1867 0)\n",
      "\n",
      "\n",
      "Info on calcn_l IMU\n",
      "Orientation:  (1.53003 -0.518915 1.50722)\n",
      "Translation:  (0.1 0.03 0)\n",
      "\n",
      "\n",
      "Info on torso IMU\n",
      "Orientation:  (1.41822 1.24909 0.075145)\n",
      "Translation:  (-0.03 0.32 0)\n",
      "\n",
      "\n"
     ]
    }
   ],
   "source": [
    "modelBodySet =  model.getBodySet()\n",
    "for body in modelBodySet:\n",
    "    body_name = body.getName()\n",
    "    body = modelBodySet.get(body_name)\n",
    "\n",
    "    # Extract the IMU component\n",
    "    body_imu = body.findComponent(body_name + \"_imu\")\n",
    "    if body_imu is not None:\n",
    "        print(\"Info on\", body_name, \"IMU\")\n",
    "        imu_orientation = body_imu.getPropertyByName(\"orientation\")\n",
    "        print(\"Orientation: \", imu_orientation.toString())\n",
    "\n",
    "        imu_translation = body_imu.getPropertyByName(\"translation\")\n",
    "        print(\"Translation: \", imu_translation.toString())\n",
    "        print(\"\\n\")\n",
    "\n",
    "    else:\n",
    "        continue"
   ],
   "metadata": {
    "collapsed": false,
    "pycharm": {
     "name": "#%%\n"
    }
   }
  },
  {
   "cell_type": "code",
   "execution_count": 8,
   "outputs": [
    {
     "name": "stdout",
     "output_type": "stream",
     "text": [
      "Orientation:  (1.50899 1.286 -0.00560779)\n"
     ]
    }
   ],
   "source": [
    "pelvis = model.getBodySet().get(\"pelvis\")\n",
    "body_imu = pelvis.findComponent(\"pelvis\" + \"_imu\")\n",
    "imu_orientation = body_imu.getPropertyByName(\"orientation\")\n",
    "print(\"Orientation: \", imu_orientation.toString())"
   ],
   "metadata": {
    "collapsed": false,
    "pycharm": {
     "name": "#%%\n"
    }
   }
  },
  {
   "cell_type": "code",
   "execution_count": 15,
   "outputs": [],
   "source": [
    "storage = osim.Storage(\"IKResults/ik_MT_012005D6_009-001_orientations.mot\")\n",
    "\n",
    "# tabe = storage.read(, \".mot\")"
   ],
   "metadata": {
    "collapsed": false,
    "pycharm": {
     "name": "#%%\n"
    }
   }
  },
  {
   "cell_type": "code",
   "execution_count": 23,
   "outputs": [
    {
     "name": "stdout",
     "output_type": "stream",
     "text": [
      "<opensim.common.ArrayDouble; proxy of <Swig Object of type 'OpenSim::Array< double > *' at 0x000001FA80E5EF60> >\n"
     ]
    }
   ],
   "source": [
    "print(storage.getLastStateVector().getData())"
   ],
   "metadata": {
    "collapsed": false,
    "pycharm": {
     "name": "#%%\n"
    }
   }
  },
  {
   "cell_type": "code",
   "execution_count": 15,
   "outputs": [],
   "source": [],
   "metadata": {
    "collapsed": false,
    "pycharm": {
     "name": "#%%\n"
    }
   }
  }
 ],
 "metadata": {
  "kernelspec": {
   "name": "pycharm-e728cf3d",
   "language": "python",
   "display_name": "PyCharm (PICUPE)"
  },
  "language_info": {
   "codemirror_mode": {
    "name": "ipython",
    "version": 2
   },
   "file_extension": ".py",
   "mimetype": "text/x-python",
   "name": "python",
   "nbconvert_exporter": "python",
   "pygments_lexer": "ipython2",
   "version": "2.7.6"
  }
 },
 "nbformat": 4,
 "nbformat_minor": 0
}