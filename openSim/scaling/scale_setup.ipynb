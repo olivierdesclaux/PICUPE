{
 "cells": [
  {
   "cell_type": "code",
   "execution_count": 1,
   "outputs": [],
   "source": [
    "import xml.etree.ElementTree as ET"
   ],
   "metadata": {
    "collapsed": false,
    "pycharm": {
     "name": "#%%\n"
    }
   }
  },
  {
   "cell_type": "code",
   "execution_count": 2,
   "metadata": {
    "collapsed": true
   },
   "outputs": [],
   "source": [
    "tree = ET.parse('subject01_Setup_Scale.xml')\n",
    "root = tree.getroot()\n",
    "scaleTool = root[0]"
   ]
  },
  {
   "cell_type": "code",
   "execution_count": 3,
   "outputs": [
    {
     "name": "stdout",
     "output_type": "stream",
     "text": [
      "<Element 'ScaleTool' at 0x000001C1D85D4228>\n",
      "mass {}       72.60000000 \n",
      "height {}     1803.40000000 \n",
      "age {}       99.00000000 \n",
      "notes {}  This is an example setup file for scale.exe. \n",
      "GenericModelMaker {'name': ''} \n",
      "\t\t\n",
      "\t\t\n",
      "ModelScaler {'name': ''} \n",
      "\t\t\t\n",
      "\t\t\t\n",
      "MarkerPlacer {'name': ''} \n",
      "\t\t\t\n",
      "\t\t\t\n"
     ]
    }
   ],
   "source": [
    "# print(root.getchildren())\n",
    "print(root[0])\n",
    "for child in scaleTool:\n",
    "    print(child.tag, child.attrib, child.text)"
   ],
   "metadata": {
    "collapsed": false,
    "pycharm": {
     "name": "#%%\n"
    }
   }
  },
  {
   "cell_type": "code",
   "execution_count": 24,
   "outputs": [],
   "source": [
    "patientMass = scaleTool.find(\"mass\")\n",
    "patientMass.text = \"100\"\n",
    "\n",
    "\n",
    "tree.write('subject01_Setup_Scale_updated.xml')"
   ],
   "metadata": {
    "collapsed": false,
    "pycharm": {
     "name": "#%%\n"
    }
   }
  },
  {
   "cell_type": "code",
   "execution_count": 15,
   "outputs": [],
   "source": [
    "patientMass.set(\"mass\", \"100\")"
   ],
   "metadata": {
    "collapsed": false,
    "pycharm": {
     "name": "#%%\n"
    }
   }
  },
  {
   "cell_type": "code",
   "execution_count": 18,
   "outputs": [
    {
     "data": {
      "text/plain": "'100'"
     },
     "execution_count": 18,
     "metadata": {},
     "output_type": "execute_result"
    }
   ],
   "source": [
    "patientMass.text"
   ],
   "metadata": {
    "collapsed": false,
    "pycharm": {
     "name": "#%%\n"
    }
   }
  },
  {
   "cell_type": "code",
   "execution_count": 23,
   "outputs": [],
   "source": [
    "target_file = \"custom_static.trc\"\n",
    "target_file_content = []\n",
    "with open(\"subject01_static.trc\") as f:\n",
    "    lines = f.readlines()\n",
    "    target_file_content = lines\n",
    "    header = lines[3]\n",
    "    coordinates = lines[4]"
   ],
   "metadata": {
    "collapsed": false,
    "pycharm": {
     "name": "#%%\n"
    }
   }
  },
  {
   "cell_type": "code",
   "execution_count": 24,
   "outputs": [
    {
     "name": "stdout",
     "output_type": "stream",
     "text": [
      "Frame#\tTime\tR.ASIS\t\t\tL.ASIS\t\t\tV.Sacral\t\t\tR.Thigh.Upper\t\t\tR.Thigh.Front\t\t\tR.Thigh.Rear\t\t\tL.Thigh.Upper\t\t\tL.Thigh.Front\t\t\tL.Thigh.Rear\t\t\tR.Knee.Lat\t\t\tR.Knee.Med\t\t\tL.Knee.Lat\t\t\tL.Knee.Med\t\t\tR.Shank.Upper\t\t\tR.Shank.Front\t\t\tR.Shank.Rear\t\t\tL.Shank.Upper\t\t\tL.Shank.Front\t\t\tL.Shank.Rear\t\t\tR.Ankle.Lat\t\t\tR.Ankle.Med\t\t\tL.Ankle.Lat\t\t\tL.Ankle.Med\t\t\tR.Heel\t\t\tR.Midfoot.Sup\t\t\tR.Midfoot.Lat\t\t\tR.Toe.Tip\t\t\tL.Heel\t\t\tL.Midfoot.Sup\t\t\tL.Midfoot.Lat\t\t\tL.Toe.Tip\t\t\tSternum\t\t\tR.Acromium\t\t\tL.Acromium\t\t\tR.Bicep\t\t\tL.Bicep\t\t\tR.Elbow\t\t\tL.Elbow\t\t\tR.Wrist.Med\t\t\tR.Wrist.Lat\t\t\tL.Wrist.Med\t\t\tL.Wrist.Lat\t\t\tR.Toe.Lat\t\t\tR.Toe.Med\t\t\tL.Toe.Lat\t\t\tL.Toe.Med\t\t\tR.Temple\t\t\tL.Temple\t\t\tTop.Head\t\t\t\n",
      "\n",
      "\t\tX1\tY1\tZ1\tX2\tY2\tZ2\tX3\tY3\tZ3\tX4\tY4\tZ4\tX5\tY5\tZ5\tX6\tY6\tZ6\tX7\tY7\tZ7\tX8\tY8\tZ8\tX9\tY9\tZ9\tX10\tY10\tZ10\tX11\tY11\tZ11\tX12\tY12\tZ12\tX13\tY13\tZ13\tX14\tY14\tZ14\tX15\tY15\tZ15\tX16\tY16\tZ16\tX17\tY17\tZ17\tX18\tY18\tZ18\tX19\tY19\tZ19\tX20\tY20\tZ20\tX21\tY21\tZ21\tX22\tY22\tZ22\tX23\tY23\tZ23\tX24\tY24\tZ24\tX25\tY25\tZ25\tX26\tY26\tZ26\tX27\tY27\tZ27\tX28\tY28\tZ28\tX29\tY29\tZ29\tX30\tY30\tZ30\tX31\tY31\tZ31\tX32\tY32\tZ32\tX33\tY33\tZ33\tX34\tY34\tZ34\tX35\tY35\tZ35\tX36\tY36\tZ36\tX37\tY37\tZ37\tX38\tY38\tZ38\tX39\tY39\tZ39\tX40\tY40\tZ40\tX41\tY41\tZ41\tX42\tY42\tZ42\tX43\tY43\tZ43\tX44\tY44\tZ44\tX45\tY45\tZ45\tX46\tY46\tZ46\tX47\tY47\tZ47\tX48\tY48\tZ48\tX49\tY49\tZ49\t\n",
      "\n"
     ]
    }
   ],
   "source": [
    "print(header)\n",
    "print(coordinates)"
   ],
   "metadata": {
    "collapsed": false,
    "pycharm": {
     "name": "#%%\n"
    }
   }
  },
  {
   "cell_type": "code",
   "execution_count": null,
   "outputs": [],
   "source": [],
   "metadata": {
    "collapsed": false,
    "pycharm": {
     "name": "#%%\n"
    }
   }
  }
 ],
 "metadata": {
  "kernelspec": {
   "name": "pycharm-6c3cea8f",
   "language": "python",
   "display_name": "PyCharm (openSim)"
  },
  "language_info": {
   "codemirror_mode": {
    "name": "ipython",
    "version": 2
   },
   "file_extension": ".py",
   "mimetype": "text/x-python",
   "name": "python",
   "nbconvert_exporter": "python",
   "pygments_lexer": "ipython2",
   "version": "2.7.6"
  }
 },
 "nbformat": 4,
 "nbformat_minor": 0
}